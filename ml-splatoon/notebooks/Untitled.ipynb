{
 "cells": [
  {
   "cell_type": "code",
   "execution_count": 1,
   "metadata": {
    "scrolled": true
   },
   "outputs": [
    {
     "name": "stderr",
     "output_type": "stream",
     "text": [
      "c:\\users\\valxa\\anaconda3\\envs\\splatoon-ml\\lib\\site-packages\\ipykernel\\ipkernel.py:287: DeprecationWarning: `should_run_async` will not call `transform_cell` automatically in the future. Please pass the result to `transformed_cell` argument and any exception that happen during thetransform in `preprocessing_exc_tuple` in IPython 7.17 and above.\n",
      "  and should_run_async(code)\n"
     ]
    }
   ],
   "source": [
    "from pathlib import Path\n",
    "from kedro.framework.context import load_context\n",
    "\n",
    "current_dir = Path.cwd()\n",
    "proj_path = current_dir.parent\n",
    "context = load_context(proj_path)"
   ]
  },
  {
   "cell_type": "code",
   "execution_count": 2,
   "metadata": {},
   "outputs": [],
   "source": [
    "import matplotlib.pyplot as plt\n",
    "import numpy as np\n",
    "import pandas as pd\n",
    "import time\n",
    "import torch\n",
    "import torch.nn as nn\n",
    "from sklearn.metrics import accuracy_score\n",
    "from sklearn.model_selection import KFold"
   ]
  },
  {
   "cell_type": "code",
   "execution_count": 3,
   "metadata": {},
   "outputs": [
    {
     "name": "stdout",
     "output_type": "stream",
     "text": [
      "2020-09-21 12:54:02,982 - kedro.io.data_catalog - INFO - Loading data from `train` (CSVDataSet)...\n",
      "2020-09-21 12:54:03,170 - kedro.io.data_catalog - INFO - Loading data from `test` (CSVDataSet)...\n"
     ]
    },
    {
     "name": "stderr",
     "output_type": "stream",
     "text": [
      "c:\\users\\valxa\\anaconda3\\envs\\splatoon-ml\\lib\\site-packages\\ipykernel\\ipkernel.py:287: DeprecationWarning: `should_run_async` will not call `transform_cell` automatically in the future. Please pass the result to `transformed_cell` argument and any exception that happen during thetransform in `preprocessing_exc_tuple` in IPython 7.17 and above.\n",
      "  and should_run_async(code)\n"
     ]
    },
    {
     "name": "stdout",
     "output_type": "stream",
     "text": [
      "2020-09-21 12:54:03,258 - kedro.io.data_catalog - INFO - Loading data from `stagedata` (CSVDataSet)...\n",
      "2020-09-21 12:54:03,260 - kedro.io.data_catalog - INFO - Loading data from `weapon` (CSVDataSet)...\n"
     ]
    }
   ],
   "source": [
    "import codecs\n",
    "\n",
    "df_train = catalog.load(\"train\")\n",
    "df_test = catalog.load(\"test\")\n",
    "df_stage = catalog.load(\"stagedata\")\n",
    "df_weapon = catalog.load(\"weapon\")\n"
   ]
  },
  {
   "cell_type": "code",
   "execution_count": 4,
   "metadata": {},
   "outputs": [],
   "source": [
    "cat_features = [\n",
    "    \"period\", \"game-ver\", \"lobby-mode\", \"lobby\", \"mode\", \"stage\", \"A1-weapon\",\n",
    "    \"A2-weapon\", \"A3-weapon\", \"A4-weapon\", \"B1-weapon\", \"B2-weapon\", \"B3-weapon\", \"B4-weapon\",\n",
    "    \"A1-rank\", \"A2-rank\", \"A3-rank\", \"A4-rank\", \"B1-rank\", \"B2-rank\", \"B3-rank\", \"B4-rank\", \n",
    "]\n",
    "num_features = [\n",
    "    \"A1-level\", \"A2-level\", \"A3-level\", \"A4-level\",\n",
    "    \"B1-level\", \"B2-level\", \"B3-level\", \"B4-level\"\n",
    "]\n",
    "target_col = \"y\"\n",
    "target_id = \"id\"\n",
    "players = [\"A1\", \"A2\", \"A3\", \"A4\", \"B1\", \"B2\", \"B3\", \"B4\"]"
   ]
  },
  {
   "cell_type": "code",
   "execution_count": 5,
   "metadata": {},
   "outputs": [],
   "source": [
    "cat_features.remove(\"period\")\n",
    "cat_features.remove(\"lobby\")\n",
    "cat_features.remove(\"game-ver\")\n",
    "data = pd.concat([df_train.drop([target_id, target_col], axis=1), df_test.drop([target_id], axis=1)])\n",
    "data = data.drop([\"period\", \"lobby\", \"game-ver\"], axis=1)\n",
    "y = torch.tensor(df_train[target_col].values).flatten()\n",
    "test_id = df_test[target_id]"
   ]
  },
  {
   "cell_type": "code",
   "execution_count": 6,
   "metadata": {},
   "outputs": [],
   "source": [
    "df_weapon[\"category\"] = df_weapon[\"category1\"] + df_weapon[\"category2\"]\n",
    "df_weapon = df_weapon.drop([\"category1\", \"category2\"], axis=1)"
   ]
  },
  {
   "cell_type": "code",
   "execution_count": 7,
   "metadata": {},
   "outputs": [],
   "source": [
    "weapons = [p + \"-weapon\" for p in players]\n",
    "for player in players:\n",
    "    data[f\"{player}-rank\"] = data[f\"{player}-rank\"].fillna(\"-1\")\n",
    "    data[f\"{player}-weapon\"] = data[f\"{player}-weapon\"].fillna(data[f\"{player}-weapon\"].value_counts().index[0])\n",
    "    data[f\"{player}-level\"] = data[f\"{player}-level\"].fillna(\"-1\")"
   ]
  },
  {
   "cell_type": "code",
   "execution_count": 9,
   "metadata": {},
   "outputs": [],
   "source": [
    "for weapon in weapons:\n",
    "    temp_weapon_detail = data[[weapon]].join(df_weapon.set_index(\"key\"), on=weapon)\n",
    "    weapon_detail = [weapon[:3] + col for col in temp_weapon_detail.columns]\n",
    "    cat_features.extend(weapon_detail)\n",
    "    temp_weapon_detail.columns = weapon_detail\n",
    "    data = pd.concat([data, temp_weapon_detail], axis=1)\n",
    "    data = data.drop(weapon, axis=1)\n",
    "    cat_features.remove(weapon)    "
   ]
  },
  {
   "cell_type": "code",
   "execution_count": 11,
   "metadata": {},
   "outputs": [],
   "source": [
    "cat_szs = []\n",
    "for cat in cat_features:\n",
    "    data[cat] = data[cat].astype('category')\n",
    "    cat_szs.append(len(data[cat].cat.categories))\n",
    "    data[cat] = data[cat].cat.codes.values\n",
    "emb_szs = [(size, min(50, (size+1)//2)) for size in cat_szs]"
   ]
  },
  {
   "cell_type": "code",
   "execution_count": 12,
   "metadata": {},
   "outputs": [
    {
     "name": "stdout",
     "output_type": "stream",
     "text": [
      "nums shape: torch.Size([66125, 8])\n",
      "cats shape: torch.Size([66125, 59])\n"
     ]
    }
   ],
   "source": [
    "X = data[:len(df_train.index)]\n",
    "X_test = data[len(df_train.index):]\n",
    "\n",
    "nums = np.stack([X[col].astype(np.float16).values for col in num_features], 1)\n",
    "nums = torch.tensor(nums, dtype=torch.float)\n",
    "cats = np.stack([X[col].values for col in cat_features], 1)\n",
    "cats = torch.tensor(cats, dtype=torch.int64)\n",
    "print(f\"nums shape: {nums.shape}\")\n",
    "print(f\"cats shape: {cats.shape}\")\n",
    "nums_test = np.stack([X_test[col].astype(np.float16).values for col in num_features], 1)\n",
    "nums_test = torch.tensor(nums_test, dtype=torch.float)\n",
    "cats_test = np.stack([X_test[col].values for col in cat_features], 1)\n",
    "cats_test = torch.tensor(cats_test, dtype=torch.int64)"
   ]
  },
  {
   "cell_type": "code",
   "execution_count": 13,
   "metadata": {},
   "outputs": [],
   "source": [
    "class TabularModel(nn.Module):\n",
    "\n",
    "    def __init__(self, emb_szs, n_cont, out_sz, layers, p=0.5):\n",
    "        super().__init__()\n",
    "        self.embeds = nn.ModuleList([nn.Embedding(ni, nf) for ni,nf in emb_szs])\n",
    "        self.emb_drop = nn.Dropout(p)\n",
    "        self.bn_cont = nn.BatchNorm1d(n_cont)\n",
    "        \n",
    "        layerlist = []\n",
    "        n_emb = sum((nf for ni,nf in emb_szs))\n",
    "        n_in = n_emb + n_cont\n",
    "        \n",
    "        for i in layers:\n",
    "            layerlist.append(nn.Linear(n_in,i)) \n",
    "            layerlist.append(nn.ReLU(inplace=True))\n",
    "            layerlist.append(nn.BatchNorm1d(i))\n",
    "            layerlist.append(nn.Dropout(p))\n",
    "            n_in = i\n",
    "        layerlist.append(nn.Linear(layers[-1],out_sz))\n",
    "            \n",
    "        self.layers = nn.Sequential(*layerlist)\n",
    "    \n",
    "    def forward(self, x_cat, x_cont):\n",
    "        embeddings = []\n",
    "        for i,e in enumerate(self.embeds):\n",
    "            embeddings.append(e(x_cat[:,i]))\n",
    "        x = torch.cat(embeddings, 1)\n",
    "        x = self.emb_drop(x)\n",
    "        \n",
    "        x_cont = self.bn_cont(x_cont)\n",
    "        x = torch.cat([x, x_cont], 1)\n",
    "        x = self.layers(x)\n",
    "        return x\n"
   ]
  },
  {
   "cell_type": "code",
   "execution_count": 15,
   "metadata": {},
   "outputs": [],
   "source": [
    "torch.manual_seed(33)\n",
    "model = TabularModel(emb_szs, nums.shape[1], 2, [200,100], p=0.3)\n",
    "# print(model)\n",
    "\n",
    "criterion = nn.CrossEntropyLoss()\n",
    "optimizer = torch.optim.Adam(model.parameters(), lr=0.001)\n",
    "\n",
    "\n",
    "kf = KFold(n_splits=4, shuffle=True, random_state=42)"
   ]
  },
  {
   "cell_type": "code",
   "execution_count": 17,
   "metadata": {},
   "outputs": [
    {
     "name": "stdout",
     "output_type": "stream",
     "text": [
      "cat_train: 49593, cat_valid 16532, num_train 49593, num_valid 16532\n",
      "y_train: 49593, y_valid: 16532\n",
      "epoch:   1  loss: 0.66131860\n",
      "epoch:   1  valid loss: 0.66395617\n",
      "epoch:  10  loss: 0.65016061\n",
      "\n",
      "Duration: 39 seconds\n",
      "CE Loss: 0.66376066\n",
      "accuracy: 0.59756835\n",
      "cat_train: 49594, cat_valid 16531, num_train 49594, num_valid 16531\n",
      "y_train: 49594, y_valid: 16531\n",
      "epoch:   1  loss: 0.65396261\n",
      "epoch:   1  valid loss: 0.65101975\n",
      "epoch:  10  loss: 0.63852429\n",
      "\n",
      "Duration: 39 seconds\n",
      "CE Loss: 0.64999503\n",
      "accuracy: 0.61805093\n",
      "cat_train: 49594, cat_valid 16531, num_train 49594, num_valid 16531\n",
      "y_train: 49594, y_valid: 16531\n",
      "epoch:   1  loss: 0.64590925\n",
      "epoch:   1  valid loss: 0.63133746\n",
      "epoch:  10  loss: 0.63158184\n",
      "\n",
      "Duration: 39 seconds\n",
      "CE Loss: 0.63879758\n",
      "accuracy: 0.63123828\n",
      "cat_train: 49594, cat_valid 16531, num_train 49594, num_valid 16531\n",
      "y_train: 49594, y_valid: 16531\n",
      "epoch:   1  loss: 0.63493073\n",
      "epoch:   1  valid loss: 0.61028653\n",
      "epoch:  10  loss: 0.61407506\n",
      "\n",
      "Duration: 39 seconds\n",
      "CE Loss: 0.61720878\n",
      "accuracy: 0.65513278\n"
     ]
    },
    {
     "data": {
      "image/png": "[encoded data removed]",
      "text/plain": [
       "<Figure size 432x288 with 1 Axes>"
      ]
     },
     "metadata": {
      "needs_background": "light"
     },
     "output_type": "display_data"
    }
   ],
   "source": [
    "is_short_run = False\n",
    "for i, (train_index, valid_index) in enumerate(kf.split(X, y)):\n",
    "    cat_train = cats[train_index]\n",
    "    cat_valid = cats[valid_index]\n",
    "    num_train = nums[train_index]\n",
    "    num_valid = nums[valid_index]\n",
    "    y_train = y[train_index]\n",
    "    y_valid = y[valid_index]\n",
    "    print(f\"cat_train: {len(cat_train)}, cat_valid {len(cat_valid)}, num_train {len(num_train)}, num_valid {len(num_valid)}\")\n",
    "    print(f\"y_train: {len(y_train)}, y_valid: {len(y_valid)}\")\n",
    "\n",
    "\n",
    "    start_time = time.time()\n",
    "\n",
    "    epochs = 10\n",
    "    losses = []\n",
    "    valid_losses = []\n",
    "\n",
    "    for i in range(epochs):\n",
    "        i+=1\n",
    "        y_pred = model(cat_train, num_train)\n",
    "        loss = criterion(y_pred, y_train)\n",
    "        losses.append(loss)\n",
    "\n",
    "        if i%10 == 1:\n",
    "            print(f'epoch: {i:3}  loss: {loss.item():10.8f}')\n",
    "\n",
    "        optimizer.zero_grad()\n",
    "        loss.backward()\n",
    "        optimizer.step()\n",
    "        \n",
    "        with torch.no_grad():\n",
    "            y_val = model(cat_valid, num_valid)\n",
    "            valid_loss = criterion(y_val, y_valid)\n",
    "            valid_losses.append(valid_loss)\n",
    "            if i%10 == 1:\n",
    "                print(f'epoch: {i:3}  valid loss: {valid_loss.item():10.8f}')\n",
    "\n",
    "    print(f'epoch: {i:3}  loss: {loss.item():10.8f}') # print the last line\n",
    "    print(f'\\nDuration: {time.time() - start_time:.0f} seconds') # print the time elapsed\n",
    "\n",
    "    plt.plot(range(epochs), losses)\n",
    "    plt.plot(range(epochs), valid_losses)\n",
    "    plt.ylabel('Cross Entropy Loss')\n",
    "    plt.xlabel('epoch');\n",
    "\n",
    "    with torch.no_grad():\n",
    "        y_val = model(cat_valid, num_valid)\n",
    "        accuracy = accuracy_score(np.argmax(y_val, axis=1), y_valid)\n",
    "        loss = criterion(y_val, y_valid)\n",
    "    print(f'CE Loss: {loss:.8f}')\n",
    "    print(f'accuracy: {accuracy:.8f}')\n",
    "    \n",
    "    with torch.no_grad():\n",
    "        y_test = np.argmax(model(cats_test, nums_test), axis=1)\n",
    "    if is_short_run:\n",
    "        break\n",
    "    \n",
    "submission_df = pd.DataFrame({target_id: test_id.values, target_col: y_test})\n",
    "submission_df.to_csv(\"submission.csv\", index=False)"
   ]
  },
  {
   "cell_type": "code",
   "execution_count": null,
   "metadata": {},
   "outputs": [],
   "source": []
  }
 ],
 "metadata": {
  "kernelspec": {
   "display_name": "mlsplatoon",
   "language": "python",
   "name": "python3"
  },
  "language_info": {
   "codemirror_mode": {
    "name": "ipython",
    "version": 3
   },
   "file_extension": ".py",
   "mimetype": "text/x-python",
   "name": "python",
   "nbconvert_exporter": "python",
   "pygments_lexer": "ipython3",
   "version": "3.8.5"
  }
 },
 "nbformat": 4,
 "nbformat_minor": 4
}