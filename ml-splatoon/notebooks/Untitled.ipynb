{
 "cells": [
  {
   "cell_type": "code",
   "execution_count": 1,
   "metadata": {
    "scrolled": true
   },
   "outputs": [
    {
     "name": "stderr",
     "output_type": "stream",
     "text": [
      "c:\\users\\valxa\\anaconda3\\envs\\splatoon-ml\\lib\\site-packages\\ipykernel\\ipkernel.py:287: DeprecationWarning: `should_run_async` will not call `transform_cell` automatically in the future. Please pass the result to `transformed_cell` argument and any exception that happen during thetransform in `preprocessing_exc_tuple` in IPython 7.17 and above.\n",
      "  and should_run_async(code)\n"
     ]
    }
   ],
   "source": [
    "from pathlib import Path\n",
    "from kedro.framework.context import load_context\n",
    "\n",
    "current_dir = Path.cwd()\n",
    "proj_path = current_dir.parent\n",
    "context = load_context(proj_path)"
   ]
  },
  {
   "cell_type": "code",
   "execution_count": 2,
   "metadata": {},
   "outputs": [],
   "source": [
    "import matplotlib.pyplot as plt\n",
    "import numpy as np\n",
    "import pandas as pd\n",
    "import time\n",
    "import torch\n",
    "import torch.nn as nn\n",
    "from sklearn.metrics import accuracy_score\n",
    "from sklearn.model_selection import KFold"
   ]
  },
  {
   "cell_type": "code",
   "execution_count": 3,
   "metadata": {},
   "outputs": [
    {
     "name": "stdout",
     "output_type": "stream",
     "text": [
      "2020-09-24 07:42:06,100 - kedro.io.data_catalog - INFO - Loading data from `train` (CSVDataSet)...\n",
      "2020-09-24 07:42:06,287 - kedro.io.data_catalog - INFO - Loading data from `test` (CSVDataSet)...\n"
     ]
    },
    {
     "name": "stderr",
     "output_type": "stream",
     "text": [
      "c:\\users\\valxa\\anaconda3\\envs\\splatoon-ml\\lib\\site-packages\\ipykernel\\ipkernel.py:287: DeprecationWarning: `should_run_async` will not call `transform_cell` automatically in the future. Please pass the result to `transformed_cell` argument and any exception that happen during thetransform in `preprocessing_exc_tuple` in IPython 7.17 and above.\n",
      "  and should_run_async(code)\n"
     ]
    },
    {
     "name": "stdout",
     "output_type": "stream",
     "text": [
      "2020-09-24 07:42:06,376 - kedro.io.data_catalog - INFO - Loading data from `stagedata` (CSVDataSet)...\n",
      "2020-09-24 07:42:06,378 - kedro.io.data_catalog - INFO - Loading data from `weapon` (CSVDataSet)...\n"
     ]
    }
   ],
   "source": [
    "import codecs\n",
    "\n",
    "df_train = catalog.load(\"train\")\n",
    "df_test = catalog.load(\"test\")\n",
    "df_stage = catalog.load(\"stagedata\")\n",
    "df_weapon = catalog.load(\"weapon\")\n"
   ]
  },
  {
   "cell_type": "code",
   "execution_count": null,
   "metadata": {},
   "outputs": [],
   "source": [
    "train_x = df_train.drop(\"y\", axis=1)\n",
    "train_y = df_train[\"y\"]\n",
    "train_x = torch.tensor(train_x.values)\n",
    "train_y = torch.tensor(train_y.values, dtype=torch.int64)\n"
   ]
  },
  {
   "cell_type": "code",
   "execution_count": 4,
   "metadata": {},
   "outputs": [],
   "source": [
    "cat_features = [\n",
    "    \"period\", \"game-ver\", \"lobby-mode\", \"lobby\", \"mode\", \"stage\", \"A1-weapon\",\n",
    "    \"A2-weapon\", \"A3-weapon\", \"A4-weapon\", \"B1-weapon\", \"B2-weapon\", \"B3-weapon\", \"B4-weapon\",\n",
    "    \"A1-rank\", \"A2-rank\", \"A3-rank\", \"A4-rank\", \"B1-rank\", \"B2-rank\", \"B3-rank\", \"B4-rank\", \n",
    "]\n",
    "num_features = [\n",
    "    \"A1-level\", \"A2-level\", \"A3-level\", \"A4-level\",\n",
    "    \"B1-level\", \"B2-level\", \"B3-level\", \"B4-level\"\n",
    "]\n",
    "target_col = \"y\"\n",
    "target_id = \"id\"\n",
    "players = [\"A1\", \"A2\", \"A3\", \"A4\", \"B1\", \"B2\", \"B3\", \"B4\"]"
   ]
  },
  {
   "cell_type": "code",
   "execution_count": 5,
   "metadata": {},
   "outputs": [],
   "source": [
    "cat_features.remove(\"period\")\n",
    "cat_features.remove(\"lobby\")\n",
    "cat_features.remove(\"game-ver\")\n",
    "data = pd.concat([df_train.drop([target_id, target_col], axis=1), df_test.drop([target_id], axis=1)])\n",
    "data = data.drop([\"period\", \"lobby\", \"game-ver\"], axis=1)\n",
    "y = torch.tensor(df_train[target_col].values).flatten()\n",
    "test_id = df_test[target_id]"
   ]
  },
  {
   "cell_type": "code",
   "execution_count": 6,
   "metadata": {},
   "outputs": [],
   "source": [
    "df_weapon[\"category\"] = df_weapon[\"category1\"] + df_weapon[\"category2\"]\n",
    "df_weapon = df_weapon.drop([\"category1\", \"category2\"], axis=1)\n",
    "df_weapon = df_weapon.drop([\"i\"], axis=1)"
   ]
  },
  {
   "cell_type": "code",
   "execution_count": 7,
   "metadata": {},
   "outputs": [
    {
     "data": {
      "text/plain": [
       "Index(['lobby-mode', 'mode', 'stage', 'A1-weapon', 'A1-rank', 'A1-level',\n",
       "       'A2-weapon', 'A2-rank', 'A2-level', 'A3-weapon', 'A3-rank', 'A3-level',\n",
       "       'A4-weapon', 'A4-rank', 'A4-level', 'B1-weapon', 'B1-rank', 'B1-level',\n",
       "       'B2-weapon', 'B2-rank', 'B2-level', 'B3-weapon', 'B3-rank', 'B3-level',\n",
       "       'B4-weapon', 'B4-rank', 'B4-level'],\n",
       "      dtype='object')"
      ]
     },
     "execution_count": 7,
     "metadata": {},
     "output_type": "execute_result"
    }
   ],
   "source": [
    "data.columns"
   ]
  },
  {
   "cell_type": "code",
   "execution_count": 8,
   "metadata": {},
   "outputs": [
    {
     "name": "stdout",
     "output_type": "stream",
     "text": [
      "[ 0.  8. 12. 10.  4. 11.  9.  2.  7.  3.  6.  5.  1.]\n"
     ]
    }
   ],
   "source": [
    "weapons = [p + \"-weapon\" for p in players]\n",
    "rank = {\"c-\":1, \"c\":2, \"c+\":3, \"b-\":4, \"b\":5, \"b+\":6, \"a-\":7, \"a\":8, \"a+\":9, \"s\":10, \"s+\":11, \"x\":12}\n",
    "for player in players:\n",
    "    data[f\"{player}-rank\"] = data[f\"{player}-rank\"].map(rank)\n",
    "    data[f\"{player}-rank\"] = data[f\"{player}-rank\"].fillna(0)\n",
    "    data[f\"{player}-weapon\"] = data[f\"{player}-weapon\"].fillna(data[f\"{player}-weapon\"].value_counts().index[0])\n",
    "    data[f\"{player}-level\"] = data[f\"{player}-level\"].fillna(\"-1\")\n",
    "print(data[\"A2-rank\"].unique())"
   ]
  },
  {
   "cell_type": "code",
   "execution_count": 9,
   "metadata": {},
   "outputs": [
    {
     "name": "stdout",
     "output_type": "stream",
     "text": [
      "      lobby-mode      mode    stage  A1-rank  A1-level  A2-rank  A2-level  \\\n",
      "0        regular  nawabari  sumeshi      0.0       139      0.0     118.0   \n",
      "1        regular  nawabari  arowana      0.0       198      0.0      77.0   \n",
      "2          gachi      hoko      ama      7.0       114      8.0      68.0   \n",
      "3        regular  nawabari   engawa      0.0       336      0.0     131.0   \n",
      "4          gachi      hoko  chozame     12.0       299     12.0      97.0   \n",
      "...          ...       ...      ...      ...       ...      ...       ...   \n",
      "28335      gachi    yagura  battera     12.0        67     12.0      62.0   \n",
      "28336      gachi    yagura  anchovy      1.0        25      1.0      18.0   \n",
      "28337      gachi    yagura    zatou     12.0       386     12.0     136.0   \n",
      "28338      gachi     asari    hokke     11.0       185     11.0     103.0   \n",
      "28339      gachi    yagura  sumeshi     12.0       182     12.0     111.0   \n",
      "\n",
      "       A3-rank  A3-level  A4-rank  ... B3-rate     B3-category  \\\n",
      "0          0.0      13.0      0.0  ...      40  chargercharger   \n",
      "1          0.0     198.0      0.0  ...      85    brellabrella   \n",
      "2          8.0     225.0      8.0  ...      30  shootershooter   \n",
      "3          0.0     189.0      0.0  ...      90  shootershooter   \n",
      "4         12.0      96.0     12.0  ...      50  slosherslosher   \n",
      "...        ...       ...      ...  ...     ...             ...   \n",
      "28335     12.0     136.0     12.0  ...      30  shootershooter   \n",
      "28336      2.0      19.0      1.0  ...      75  shootershooter   \n",
      "28337     12.0     198.0     12.0  ...      65    rollerroller   \n",
      "28338     11.0     202.0     11.0  ...      85     rollerbrush   \n",
      "28339     12.0      38.0     12.0  ...      55    rollerroller   \n",
      "\n",
      "              B4-B4-weapon  B4-subweapon          B4-special  B4-mainweapon  \\\n",
      "0                sharp_neo     quickbomb  kyubanbomb_pitcher          sharp   \n",
      "1           sputtery_clear       torpedo            chakuchi       sputtery   \n",
      "2       dualsweeper_custom    splashbomb          amefurashi    dualsweeper   \n",
      "3        hotblaster_custom     robotbomb             jetpack     hotblaster   \n",
      "4                   wakaba    splashbomb               armor         wakaba   \n",
      "...                    ...           ...                 ...            ...   \n",
      "28335               nzap83     sprinkler          amefurashi         nzap85   \n",
      "28336          dualsweeper   pointsensor             missile    dualsweeper   \n",
      "28337          l3reelgun_d     quickbomb             jetpack      l3reelgun   \n",
      "28338               ochiba       torpedo              bubble         wakaba   \n",
      "28339  barrelspinner_remix   pointsensor            nicedama  barrelspinner   \n",
      "\n",
      "      B4-range  B4-damage B4-rate         B4-category  \n",
      "0           42         22      75      shootershooter  \n",
      "1           24         47      80     shootermaneuver  \n",
      "2           70         22      60     shootermaneuver  \n",
      "3           27         70      20      shooterblaster  \n",
      "4           35         22      75      shootershooter  \n",
      "...        ...        ...     ...                 ...  \n",
      "28335       50         22      75      shootershooter  \n",
      "28336       70         22      60     shootermaneuver  \n",
      "28337       62         25      65      shooterreelgun  \n",
      "28338       35         22      75      shootershooter  \n",
      "28339       78         38      50  splatlingsplatling  \n",
      "\n",
      "[94465 rows x 83 columns]\n"
     ]
    }
   ],
   "source": [
    "for weapon in weapons:\n",
    "    temp_weapon_detail = data[[weapon]].join(df_weapon.set_index(\"key\"), on=weapon)\n",
    "    weapon_detail = [weapon[:3] + col for col in temp_weapon_detail.columns]\n",
    "    cat_features.extend(weapon_detail)\n",
    "    temp_weapon_detail.columns = weapon_detail\n",
    "    data = pd.concat([data, temp_weapon_detail], axis=1)\n",
    "    data = data.drop(weapon, axis=1)\n",
    "    cat_features.remove(weapon)    \n",
    "print(data)"
   ]
  },
  {
   "cell_type": "code",
   "execution_count": 12,
   "metadata": {},
   "outputs": [
    {
     "name": "stderr",
     "output_type": "stream",
     "text": [
      "c:\\users\\valxa\\anaconda3\\envs\\splatoon-ml\\lib\\site-packages\\ipykernel\\ipkernel.py:287: DeprecationWarning: `should_run_async` will not call `transform_cell` automatically in the future. Please pass the result to `transformed_cell` argument and any exception that happen during thetransform in `preprocessing_exc_tuple` in IPython 7.17 and above.\n",
      "  and should_run_async(code)\n"
     ]
    }
   ],
   "source": [
    "def range_average(usedata, team):\n",
    "    usedata[f\"{team}-range_ave\"] = (usedata[f\"{team}1-range\"] + usedata[f\"{team}2-range\"] + usedata[f\"{team}3-range\"] + usedata[f\"{team}4-range\"]) / 4\n",
    "    return usedata[f\"{team}-range_ave\"]"
   ]
  },
  {
   "cell_type": "code",
   "execution_count": 13,
   "metadata": {},
   "outputs": [
    {
     "name": "stdout",
     "output_type": "stream",
     "text": [
      "      lobby-mode      mode    stage  A1-rank  A1-level  A2-rank  A2-level  \\\n",
      "0        regular  nawabari  sumeshi      0.0       139      0.0     118.0   \n",
      "1        regular  nawabari  arowana      0.0       198      0.0      77.0   \n",
      "2          gachi      hoko      ama      7.0       114      8.0      68.0   \n",
      "3        regular  nawabari   engawa      0.0       336      0.0     131.0   \n",
      "4          gachi      hoko  chozame     12.0       299     12.0      97.0   \n",
      "...          ...       ...      ...      ...       ...      ...       ...   \n",
      "28335      gachi    yagura  battera     12.0        67     12.0      62.0   \n",
      "28336      gachi    yagura  anchovy      1.0        25      1.0      18.0   \n",
      "28337      gachi    yagura    zatou     12.0       386     12.0     136.0   \n",
      "28338      gachi     asari    hokke     11.0       185     11.0     103.0   \n",
      "28339      gachi    yagura  sumeshi     12.0       182     12.0     111.0   \n",
      "\n",
      "       A3-rank  A3-level  A4-rank  ...         B4-B4-weapon  B4-subweapon  \\\n",
      "0          0.0      13.0      0.0  ...            sharp_neo     quickbomb   \n",
      "1          0.0     198.0      0.0  ...       sputtery_clear       torpedo   \n",
      "2          8.0     225.0      8.0  ...   dualsweeper_custom    splashbomb   \n",
      "3          0.0     189.0      0.0  ...    hotblaster_custom     robotbomb   \n",
      "4         12.0      96.0     12.0  ...               wakaba    splashbomb   \n",
      "...        ...       ...      ...  ...                  ...           ...   \n",
      "28335     12.0     136.0     12.0  ...               nzap83     sprinkler   \n",
      "28336      2.0      19.0      1.0  ...          dualsweeper   pointsensor   \n",
      "28337     12.0     198.0     12.0  ...          l3reelgun_d     quickbomb   \n",
      "28338     11.0     202.0     11.0  ...               ochiba       torpedo   \n",
      "28339     12.0      38.0     12.0  ...  barrelspinner_remix   pointsensor   \n",
      "\n",
      "               B4-special  B4-mainweapon  B4-range  B4-damage B4-rate  \\\n",
      "0      kyubanbomb_pitcher          sharp        42         22      75   \n",
      "1                chakuchi       sputtery        24         47      80   \n",
      "2              amefurashi    dualsweeper        70         22      60   \n",
      "3                 jetpack     hotblaster        27         70      20   \n",
      "4                   armor         wakaba        35         22      75   \n",
      "...                   ...            ...       ...        ...     ...   \n",
      "28335          amefurashi         nzap85        50         22      75   \n",
      "28336             missile    dualsweeper        70         22      60   \n",
      "28337             jetpack      l3reelgun        62         25      65   \n",
      "28338              bubble         wakaba        35         22      75   \n",
      "28339            nicedama  barrelspinner        78         38      50   \n",
      "\n",
      "              B4-category A-range_ave B-range_ave  \n",
      "0          shootershooter       39.00       41.25  \n",
      "1         shootermaneuver       59.25       49.00  \n",
      "2         shootermaneuver       65.00       50.50  \n",
      "3          shooterblaster       68.00       61.50  \n",
      "4          shootershooter       40.25       50.50  \n",
      "...                   ...         ...         ...  \n",
      "28335      shootershooter       53.75       51.75  \n",
      "28336     shootermaneuver       43.50       55.25  \n",
      "28337      shooterreelgun       59.75       55.50  \n",
      "28338      shootershooter       43.75       35.00  \n",
      "28339  splatlingsplatling       53.75       50.00  \n",
      "\n",
      "[94465 rows x 85 columns]\n"
     ]
    }
   ],
   "source": [
    "data[\"A-range_ave\"] = range_average(data, \"A\")\n",
    "data[\"B-range_ave\"] = range_average(data, \"B\")\n",
    "print(data)"
   ]
  },
  {
   "cell_type": "code",
   "execution_count": 116,
   "metadata": {},
   "outputs": [
    {
     "name": "stderr",
     "output_type": "stream",
     "text": [
      "c:\\users\\valxa\\anaconda3\\envs\\splatoon-ml\\lib\\site-packages\\ipykernel\\ipkernel.py:287: DeprecationWarning: `should_run_async` will not call `transform_cell` automatically in the future. Please pass the result to `transformed_cell` argument and any exception that happen during thetransform in `preprocessing_exc_tuple` in IPython 7.17 and above.\n",
      "  and should_run_async(code)\n"
     ]
    }
   ],
   "source": [
    "cat_szs = []\n",
    "for cat in cat_features:\n",
    "    data[cat] = data[cat].astype('category')\n",
    "    cat_szs.append(len(data[cat].cat.categories))\n",
    "    data[cat] = data[cat].cat.codes.values\n",
    "emb_szs = [(size, min(50, (size+1)//2)) for size in cat_szs]"
   ]
  },
  {
   "cell_type": "code",
   "execution_count": 117,
   "metadata": {},
   "outputs": [
    {
     "name": "stdout",
     "output_type": "stream",
     "text": [
      "nums shape: torch.Size([66125, 8])\n",
      "cats shape: torch.Size([66125, 75])\n"
     ]
    }
   ],
   "source": [
    "X = data[:len(df_train.index)]\n",
    "X_test = data[len(df_train.index):]\n",
    "\n",
    "nums = np.stack([X[col].astype(np.float16).values for col in num_features], 1)\n",
    "nums = torch.tensor(nums, dtype=torch.float)\n",
    "cats = np.stack([X[col].values for col in cat_features], 1)\n",
    "cats = torch.tensor(cats, dtype=torch.int64)\n",
    "print(f\"nums shape: {nums.shape}\")\n",
    "print(f\"cats shape: {cats.shape}\")\n",
    "nums_test = np.stack([X_test[col].astype(np.float16).values for col in num_features], 1)\n",
    "nums_test = torch.tensor(nums_test, dtype=torch.float)\n",
    "cats_test = np.stack([X_test[col].values for col in cat_features], 1)\n",
    "cats_test = torch.tensor(cats_test, dtype=torch.int64)"
   ]
  },
  {
   "cell_type": "code",
   "execution_count": 118,
   "metadata": {},
   "outputs": [],
   "source": [
    "class TabularModel(nn.Module):\n",
    "\n",
    "    def __init__(self, emb_szs, n_cont, out_sz, layers, p=0.5):\n",
    "        super().__init__()\n",
    "        self.embeds = nn.ModuleList([nn.Embedding(ni, nf) for ni,nf in emb_szs])\n",
    "        self.emb_drop = nn.Dropout(p)\n",
    "        self.bn_cont = nn.BatchNorm1d(n_cont)\n",
    "        \n",
    "        layerlist = []\n",
    "        n_emb = sum((nf for ni,nf in emb_szs))\n",
    "        n_in = n_emb + n_cont\n",
    "        \n",
    "        for i in layers:\n",
    "            layerlist.append(nn.Linear(n_in,i)) \n",
    "            layerlist.append(nn.ReLU(inplace=True))\n",
    "            layerlist.append(nn.BatchNorm1d(i))\n",
    "            layerlist.append(nn.Dropout(p))\n",
    "            n_in = i\n",
    "        layerlist.append(nn.Linear(layers[-1],out_sz))\n",
    "            \n",
    "        self.layers = nn.Sequential(*layerlist)\n",
    "    \n",
    "    def forward(self, x_cat, x_cont):\n",
    "        embeddings = []\n",
    "        for i,e in enumerate(self.embeds):\n",
    "            embeddings.append(e(x_cat[:,i]))\n",
    "        x = torch.cat(embeddings, 1)\n",
    "        x = self.emb_drop(x)\n",
    "        \n",
    "        x_cont = self.bn_cont(x_cont)\n",
    "        x = torch.cat([x, x_cont], 1)\n",
    "        x = self.layers(x)\n",
    "        return x\n"
   ]
  },
  {
   "cell_type": "code",
   "execution_count": 119,
   "metadata": {},
   "outputs": [],
   "source": [
    "torch.manual_seed(33)\n",
    "model = TabularModel(emb_szs, nums.shape[1], 2, [200,100], p=0.3)\n",
    "# print(model)\n",
    "\n",
    "criterion = nn.CrossEntropyLoss()\n",
    "optimizer = torch.optim.Adam(model.parameters(), lr=0.001)\n",
    "\n",
    "\n",
    "kf = KFold(n_splits=4, shuffle=True, random_state=42)"
   ]
  },
  {
   "cell_type": "code",
   "execution_count": 120,
   "metadata": {},
   "outputs": [
    {
     "name": "stdout",
     "output_type": "stream",
     "text": [
      "cat_train: 49593, cat_valid 16532, num_train 49593, num_valid 16532\n",
      "y_train: 49593, y_valid: 16532\n",
      "epoch:   1  loss: 0.80423737\n",
      "epoch:   1  valid loss: 0.76948315\n",
      "epoch:  10  loss: 0.70818061\n",
      "\n",
      "Duration: 46 seconds\n",
      "CE Loss: 0.72750157\n",
      "accuracy: 0.51415437\n",
      "cat_train: 49594, cat_valid 16531, num_train 49594, num_valid 16531\n",
      "y_train: 49594, y_valid: 16531\n",
      "epoch:   1  loss: 0.71174383\n",
      "epoch:   1  valid loss: 0.70365465\n",
      "epoch:  10  loss: 0.68829429\n",
      "\n",
      "Duration: 46 seconds\n",
      "CE Loss: 0.69362950\n",
      "accuracy: 0.55284012\n",
      "cat_train: 49594, cat_valid 16531, num_train 49594, num_valid 16531\n",
      "y_train: 49594, y_valid: 16531\n",
      "epoch:   1  loss: 0.69144446\n",
      "epoch:   1  valid loss: 0.67565268\n",
      "epoch:  10  loss: 0.67595577\n",
      "\n",
      "Duration: 46 seconds\n",
      "CE Loss: 0.67509896\n",
      "accuracy: 0.57909382\n",
      "cat_train: 49594, cat_valid 16531, num_train 49594, num_valid 16531\n",
      "y_train: 49594, y_valid: 16531\n",
      "epoch:   1  loss: 0.67974317\n",
      "epoch:   1  valid loss: 0.66106033\n",
      "epoch:  10  loss: 0.67020065\n",
      "\n",
      "Duration: 46 seconds\n",
      "CE Loss: 0.66186863\n",
      "accuracy: 0.59790696\n"
     ]
    },
    {
     "data": {
      "image/png": "[encoded data removed]",
      "text/plain": [
       "<Figure size 432x288 with 1 Axes>"
      ]
     },
     "metadata": {
      "needs_background": "light"
     },
     "output_type": "display_data"
    }
   ],
   "source": [
    "is_short_run = False\n",
    "for i, (train_index, valid_index) in enumerate(kf.split(X, y)):\n",
    "    cat_train = cats[train_index]\n",
    "    cat_valid = cats[valid_index]\n",
    "    num_train = nums[train_index]\n",
    "    num_valid = nums[valid_index]\n",
    "    y_train = y[train_index]\n",
    "    y_valid = y[valid_index]\n",
    "    print(f\"cat_train: {len(cat_train)}, cat_valid {len(cat_valid)}, num_train {len(num_train)}, num_valid {len(num_valid)}\")\n",
    "    print(f\"y_train: {len(y_train)}, y_valid: {len(y_valid)}\")\n",
    "\n",
    "\n",
    "    start_time = time.time()\n",
    "\n",
    "    epochs = 10\n",
    "    losses = []\n",
    "    valid_losses = []\n",
    "\n",
    "    for i in range(epochs):\n",
    "        i+=1\n",
    "        y_pred = model(cat_train, num_train)\n",
    "        loss = criterion(y_pred, y_train)\n",
    "        losses.append(loss)\n",
    "\n",
    "        if i%10 == 1:\n",
    "            print(f'epoch: {i:3}  loss: {loss.item():10.8f}')\n",
    "\n",
    "        optimizer.zero_grad()\n",
    "        loss.backward()\n",
    "        optimizer.step()\n",
    "        \n",
    "        with torch.no_grad():\n",
    "            y_val = model(cat_valid, num_valid)\n",
    "            valid_loss = criterion(y_val, y_valid)\n",
    "            valid_losses.append(valid_loss)\n",
    "            if i%10 == 1:\n",
    "                print(f'epoch: {i:3}  valid loss: {valid_loss.item():10.8f}')\n",
    "\n",
    "    print(f'epoch: {i:3}  loss: {loss.item():10.8f}') # print the last line\n",
    "    print(f'\\nDuration: {time.time() - start_time:.0f} seconds') # print the time elapsed\n",
    "\n",
    "    plt.plot(range(epochs), losses)\n",
    "    plt.plot(range(epochs), valid_losses)\n",
    "    plt.ylabel('Cross Entropy Loss')\n",
    "    plt.xlabel('epoch');\n",
    "\n",
    "    with torch.no_grad():\n",
    "        y_val = model(cat_valid, num_valid)\n",
    "        accuracy = accuracy_score(np.argmax(y_val, axis=1), y_valid)\n",
    "        loss = criterion(y_val, y_valid)\n",
    "    print(f'CE Loss: {loss:.8f}')\n",
    "    print(f'accuracy: {accuracy:.8f}')\n",
    "    \n",
    "    with torch.no_grad():\n",
    "        y_test = np.argmax(model(cats_test, nums_test), axis=1)\n",
    "    if is_short_run:\n",
    "        break\n",
    "    \n",
    "submission_df = pd.DataFrame({target_id: test_id.values, target_col: y_test})\n",
    "submission_df.to_csv(\"submission.csv\", index=False)"
   ]
  },
  {
   "cell_type": "code",
   "execution_count": null,
   "metadata": {},
   "outputs": [],
   "source": []
  }
 ],
 "metadata": {
  "kernelspec": {
   "display_name": "mlsplatoon",
   "language": "python",
   "name": "python3"
  },
  "language_info": {
   "codemirror_mode": {
    "name": "ipython",
    "version": 3
   },
   "file_extension": ".py",
   "mimetype": "text/x-python",
   "name": "python",
   "nbconvert_exporter": "python",
   "pygments_lexer": "ipython3",
   "version": "3.8.5"
  }
 },
 "nbformat": 4,
 "nbformat_minor": 4
}